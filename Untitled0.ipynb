{
  "nbformat": 4,
  "nbformat_minor": 0,
  "metadata": {
    "colab": {
      "name": "Untitled0.ipynb",
      "version": "0.3.2",
      "provenance": [],
      "include_colab_link": true
    },
    "kernelspec": {
      "name": "python3",
      "display_name": "Python 3"
    }
  },
  "cells": [
    {
      "cell_type": "markdown",
      "metadata": {
        "id": "view-in-github",
        "colab_type": "text"
      },
      "source": [
        "<a href=\"https://colab.research.google.com/github/Jangseohee/Tensor/blob/master/Untitled0.ipynb\" target=\"_parent\"><img src=\"https://colab.research.google.com/assets/colab-badge.svg\" alt=\"Open In Colab\"/></a>"
      ]
    },
    {
      "metadata": {
        "id": "1e22jGtlTEFG",
        "colab_type": "code",
        "colab": {
          "base_uri": "https://localhost:8080/",
          "height": 34
        },
        "outputId": "8ae74380-6fc3-4f59-c543-0ef2d99720cc"
      },
      "cell_type": "code",
      "source": [
        "import tensorflow as tf\n",
        "hello= tf.constant(\"hello, Tensor flow!\")\n",
        "# make a node of hello\n",
        "sess=tf.Session()\n",
        "# session 생성\n",
        "print(sess.run(hello))\n"
      ],
      "execution_count": 18,
      "outputs": [
        {
          "output_type": "stream",
          "text": [
            "b'hello, Tensor flow!'\n"
          ],
          "name": "stdout"
        }
      ]
    },
    {
      "metadata": {
        "id": "nBuq8qyATjnN",
        "colab_type": "code",
        "colab": {}
      },
      "cell_type": "code",
      "source": [
        "node1 = tf.constant(3.0,tf.float32)\n",
        "node2 = tf.constant(4.0)\n",
        "node3 = tf.add(node1,node2)\n",
        "# 그래프 만들기"
      ],
      "execution_count": 0,
      "outputs": []
    },
    {
      "metadata": {
        "id": "rDwE3MjBTjLk",
        "colab_type": "code",
        "colab": {
          "base_uri": "https://localhost:8080/",
          "height": 52
        },
        "outputId": "4dd5c9e7-1a27-4ec1-fd88-2a3977f05e0c"
      },
      "cell_type": "code",
      "source": [
        "sess=tf.Session()  # 세션을 만든다\n",
        "print(\"sess.run(node1,node2) : \",sess.run([node1,node2]))\n",
        "print(\"sess.run(node3):\",sess.run(node3))"
      ],
      "execution_count": 21,
      "outputs": [
        {
          "output_type": "stream",
          "text": [
            "sess.run(node1,node2) :  [3.0, 4.0]\n",
            "sess.run(node3): 7.0\n"
          ],
          "name": "stdout"
        }
      ]
    },
    {
      "metadata": {
        "id": "H2XiZMJ7TJoL",
        "colab_type": "code",
        "colab": {
          "base_uri": "https://localhost:8080/",
          "height": 52
        },
        "outputId": "35c2255a-0dba-4e8a-8dcc-84bea8be22b5"
      },
      "cell_type": "code",
      "source": [
        "a=tf.placeholder(tf.float32)\n",
        "b=tf.placeholder(tf.float32)\n",
        "adder_node= a+b # adder node 라는 것을 또 만듬 \n",
        "sess=tf.Session()\n",
        "print(sess.run(adder_node,feed_dict={a:3,b:4.5}))\n",
        "print(sess.run(adder_node,feed_dict={a:[1,3],b:[2,4]}))"
      ],
      "execution_count": 24,
      "outputs": [
        {
          "output_type": "stream",
          "text": [
            "7.5\n",
            "[3. 7.]\n"
          ],
          "name": "stdout"
        }
      ]
    }
  ]
}